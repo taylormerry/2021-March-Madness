{
 "cells": [
  {
   "cell_type": "code",
   "execution_count": null,
   "metadata": {},
   "outputs": [],
   "source": [
    "import pandas as pd"
   ]
  },
  {
   "cell_type": "code",
   "execution_count": null,
   "metadata": {},
   "outputs": [],
   "source": [
    "# win probabilities outputted by M3_Predictions.py\n",
    "submission = pd.read_csv('mydata/mens/original_probabilities.csv')\n",
    "submission.head()"
   ]
  },
  {
   "cell_type": "code",
   "execution_count": null,
   "metadata": {},
   "outputs": [],
   "source": [
    "# Switches Pred to the (1 - Pred) if TeamID_x is not the lower ID as Pred needs to be the probability for the lower ID team\n",
    "def switch_teams(row):\n",
    "    idlist = row['ID'].split('_')\n",
    "    prob = row['Pred']\n",
    "    if row['TeamID_x'] != int(idlist[1]):\n",
    "        row['Pred'] = 1 - prob\n",
    "    row['TeamID_x'] = int(idlist[1])\n",
    "    row['TeamID_y'] = int(idlist[2])\n",
    "    return row\n",
    "\n",
    "submission = submission.apply(switch_teams, axis = 1)"
   ]
  },
  {
   "cell_type": "code",
   "execution_count": null,
   "metadata": {},
   "outputs": [],
   "source": [
    "# function to set a min probability for the favorite based on the difference in seed\n",
    "# used for 1 v 16, 2 v 15, 3 v 14\n",
    "def set_prob_to_k(row, k, diff):\n",
    "    if (row['SeedDiff'] < diff) and (row['Pred'] < k):\n",
    "        if diff == -10 and row['Seed_y'] < 14:\n",
    "            return row['Pred']\n",
    "        else:\n",
    "            return k\n",
    "    else:\n",
    "        return row['Pred']\n",
    "    \n",
    "submission['Pred'] = submission.apply(set_prob_to_k, axis = 1, args = (.80, -10)) # 3 vs 14 set to minimum 80%\n",
    "submission['Pred'] = submission.apply(set_prob_to_k, axis = 1, args = (.92, -12)) # 2 v 15 set to minumim 92%\n",
    "submission['Pred'] = submission.apply(set_prob_to_k, axis = 1, args = (.97, -14)) # 1 v 16 set to minimum 97%"
   ]
  },
  {
   "cell_type": "code",
   "execution_count": null,
   "metadata": {},
   "outputs": [],
   "source": [
    "# File for names of teams\n",
    "team_names = pd.read_csv('ncaam-march-mania-2021/MTeams.csv')[['TeamID', 'TeamName']]\n",
    "team_names.head()"
   ]
  },
  {
   "cell_type": "code",
   "execution_count": null,
   "metadata": {},
   "outputs": [],
   "source": [
    "# Seeds for 2021\n",
    "seeds = pd.read_csv('ncaam-march-mania-2021/NCAATourneySeeds.csv').query('Season == 2021')[['TeamID', 'Seed']]\n",
    "seeds.head()"
   ]
  },
  {
   "cell_type": "code",
   "execution_count": null,
   "metadata": {},
   "outputs": [],
   "source": [
    "# join names with seeds\n",
    "team_names_seeds = pd.merge(team_names, seeds, on = 'TeamID')\n",
    "team_names_seeds.head()"
   ]
  },
  {
   "cell_type": "code",
   "execution_count": null,
   "metadata": {},
   "outputs": [],
   "source": [
    "# Tournament slots for 2021\n",
    "slots = pd.read_csv('ncaam-march-mania-2021/NCAATourneySlots.csv').query('Season == 2021')[['Slot', 'StrongSeed', 'WeakSeed']]\n",
    "slots.head()"
   ]
  },
  {
   "cell_type": "code",
   "execution_count": null,
   "metadata": {},
   "outputs": [],
   "source": [
    "# join slots with names and seeds\n",
    "team_slots = pd.merge(slots, team_names_seeds, left_on = ['StrongSeed'], right_on = ['Seed'])\n",
    "team_slots = pd.merge(team_slots, team_names_seeds, left_on = ['WeakSeed'], right_on = ['Seed']).drop(columns = ['Slot', 'StrongSeed', 'WeakSeed', 'Seed_x', 'Seed_y'])\n",
    "team_slots.head()"
   ]
  },
  {
   "cell_type": "code",
   "execution_count": null,
   "metadata": {},
   "outputs": [],
   "source": [
    "# function to switch slots so the lower id is in first slot\n",
    "def switch_slots(row):\n",
    "    if row['TeamID_x'] > row['TeamID_y']:\n",
    "        team_id = row['TeamID_x']\n",
    "        name = row['TeamName_x']\n",
    "        row['TeamID_x'] = row['TeamID_y']\n",
    "        row['TeamID_y'] = team_id\n",
    "        row['TeamName_x'] = row['TeamName_y']\n",
    "        row['TeamName_y'] = name\n",
    "    return row\n",
    "\n",
    "team_slots = team_slots.apply(switch_slots, axis = 1)\n",
    "team_slots.head()"
   ]
  },
  {
   "cell_type": "code",
   "execution_count": null,
   "metadata": {},
   "outputs": [],
   "source": [
    "# merge submission with team slots to look at Round 1 probabilities\n",
    "submission_r1 = pd.merge(submission, team_slots, on = ['TeamID_x', 'TeamID_y'])\n",
    "submission_r1"
   ]
  },
  {
   "cell_type": "code",
   "execution_count": null,
   "metadata": {},
   "outputs": [],
   "source": [
    "ids = list(submission_r1['ID'])\n",
    "\n",
    "#The ML odds from Draftkings, inputted manually, in order of IDs in submission_r1\n",
    "vegas_odds_x = [] # ML odds for TeamID_x (lower team id)\n",
    "vegas_odds_y = [] # ML odds for TeamID_y (higher team id)\n",
    "\n",
    "# make datframe of these odds\n",
    "ml_odds = pd.DataFrame({'ID': ids, 'ML_x': vegas_odds_x, 'ML_y': vegas_odds_y})\n",
    "ml_odds.head()"
   ]
  },
  {
   "cell_type": "code",
   "execution_count": null,
   "metadata": {},
   "outputs": [],
   "source": [
    "# converts the ML odds to a win probability\n",
    "def ml_to_win_probability(row, ml_col):\n",
    "    \n",
    "    # if team has plus odds (underdog)\n",
    "    if row[ml_col] > 0:\n",
    "        return (100 / (100 + row[ml_col]))\n",
    "    \n",
    "    # if team has negative odds (favorite)\n",
    "    else:\n",
    "        return ((-1 * row[ml_col] / (100 - row[ml_col])))\n",
    "    \n",
    "# makes columns of win probabilities from ML odds\n",
    "ml_odds['WinProb_x'] = ml_odds.apply(lambda x: ml_to_win_probability(x, 'ML_x'), axis = 1)\n",
    "ml_odds['WinProb_y'] = ml_odds.apply(lambda x: ml_to_win_probability(x, 'ML_y'), axis = 1)\n",
    "\n",
    "ml_odds.head()"
   ]
  },
  {
   "cell_type": "code",
   "execution_count": null,
   "metadata": {},
   "outputs": [],
   "source": [
    "# The ML odds are hedged so that Vegas makes money, so need to average them out to get the true win probability\n",
    "# Calculating for team x only as the win probabilities in the Kaggle submission are for team x\n",
    "ml_odds['VegasWinProb'] = 0.5 * (ml_odds['WinProb_x'] + (1 - ml_odds['WinProb_y']))\n",
    "\n",
    "# only need the true win probability and ID\n",
    "ml_odds = ml_odds[['ID', 'VegasWinProb']]\n",
    "ml_odds.head()"
   ]
  },
  {
   "cell_type": "code",
   "execution_count": null,
   "metadata": {},
   "outputs": [],
   "source": [
    "# merge vegas odds with submission probabilities for round 1\n",
    "submission_r1 = pd.merge(submission_r1, ml_odds, on = 'ID')\n",
    "\n",
    "# Calculate absolute difference between my probabilities and Vegas'\n",
    "submission_r1['AbsDiff'] = abs(submission_r1['VegasWinProb'] - submission_r1['Pred'])\n",
    "\n",
    "# print submission_r1 ordering by the difference in win probability\n",
    "submission_r1.sort_values('AbsDiff')"
   ]
  },
  {
   "cell_type": "code",
   "execution_count": null,
   "metadata": {},
   "outputs": [],
   "source": [
    "# adjusts all probabiltiies for a given team\n",
    "# positive adj means team is undervalued by model\n",
    "# negative adj means team is overvalued by model\n",
    "def team_adjustment(row, team_id, adj):\n",
    "    idlist = row['ID'].split('_')\n",
    "    \n",
    "    # factor to add or subtract from the win probability, smaller at the tails than at the center and never goes outside of 0 and 1\n",
    "    if row['Pred'] > 0.5:\n",
    "        adj_actor = abs(adj) * (1 - row['Pred'])\n",
    "    else:\n",
    "        adj_factor = abs(adj) * row['Pred']\n",
    "    \n",
    "    # increase probability if given team is TeamID_x and adjustment is positive or given team is TeamID_y and adjustment is negative\n",
    "    if (team_id == int(idlist[1]) and adj > 0) or (team_id == int(idlist[2]) and adj < 0):\n",
    "        return row['Pred'] + adj_factor\n",
    "        \n",
    "    # decrease probability if given team is TeamID_y and adjustment is positive or given team is TeamID_x and adjustment is negative\n",
    "    else if (team_id == int(idlist[2]) and adj > 0) or (team_id == int(idlist[1]) and adj < 0):\n",
    "        return row['Pred'] - adj_factor\n",
    "        \n",
    "    else:\n",
    "        return row['Pred']\n",
    "    \n",
    "# look at Vegas odds, and see which teams the model undervalues that make sense (injuries, COVID, other reasons)\n",
    "# and adjust their win probabilities for all games manually using function above\n",
    "#submission['Pred'] = submission.apply(lambda x: team_adjustment(x, , ), axis = 1)"
   ]
  },
  {
   "cell_type": "code",
   "execution_count": null,
   "metadata": {},
   "outputs": [],
   "source": [
    "# run same code to compare new altered probabilities to Vegas odds\n",
    "\n",
    "# merge submission with team slots to look at Round 1 probabilities\n",
    "submission_r1 = pd.merge(submission, team_slots, on = ['TeamID_x', 'TeamID_y'])\n",
    "\n",
    "# merge vegas odds with submission probabilities for round 1\n",
    "submission_r1 = pd.merge(submission_r1, ml_odds, on = 'ID')\n",
    "\n",
    "# Calculate absolute difference between my probabilities and Vegas'\n",
    "submission_r1['AbsDiff'] = abs(submission_r1['VegasWinProb'] - submission_r1['Pred'])\n",
    "\n",
    "# print submission_r1 ordering by the difference in win probability\n",
    "submission_r1.sort_values('AbsDiff')"
   ]
  },
  {
   "cell_type": "code",
   "execution_count": null,
   "metadata": {},
   "outputs": [],
   "source": [
    "# make manual adjustments to round 1 win probabilities based on Vegas odds\n",
    "\n",
    "# choose the more \"aggressive\" odds, as there are many entries in the Kaggle competition so \n",
    "# increasing the variance increases the win probability\n",
    "\n",
    "# make sure the adjustments are on submission and not submission_r1"
   ]
  },
  {
   "cell_type": "markdown",
   "metadata": {},
   "source": [
    "### Kaggle Alterations\n",
    "\n",
    "Kaggle allows two submission files, so it's best to alter the submission probabilities to maximize your chance of winning. To do this, I will take the most even first round matchup, and assign a probability of 1 in the first submission and a probability of 0 in the second submission. This matchup is guaranteed to happen (as it's the opening round) and I will benefit from the improvement in log loss on that matchup going from a log loss of around 0.69 to a log loss of 0"
   ]
  },
  {
   "cell_type": "code",
   "execution_count": null,
   "metadata": {},
   "outputs": [],
   "source": [
    "# Assign probabiltiy 1 to the most even first round matchup\n",
    "# juding from submission_r1 above, the most even first round matchup is...\n",
    "submission1 = submission.copy()\n",
    "submission2 = submission.copy()\n",
    "submission1.iloc[2031, 1] = 1   # Oklahoma vs Miss, give Mississippi the full 100%\n",
    "submission2.iloc[2031, 1] = 0   # Oklahoma vs Miss, give Oklahoma the full 100%"
   ]
  },
  {
   "cell_type": "code",
   "execution_count": null,
   "metadata": {},
   "outputs": [],
   "source": [
    "submission1.iloc[2031, ]"
   ]
  },
  {
   "cell_type": "code",
   "execution_count": null,
   "metadata": {},
   "outputs": [],
   "source": [
    "submission2.iloc[2031, ]"
   ]
  },
  {
   "cell_type": "code",
   "execution_count": null,
   "metadata": {},
   "outputs": [],
   "source": [
    "# write submissions to csv\n",
    "submission.to_csv('mydata/mens/altered_probabilities.csv', index = False)\n",
    "submission1.to_csv('mydata/mens/submission1_prob.csv', index = False)\n",
    "submission2.to_csv('mydata/mens/submission2_prob.csv', index = False)"
   ]
  }
 ],
 "metadata": {
  "kernelspec": {
   "display_name": "Python 3",
   "language": "python",
   "name": "python3"
  },
  "language_info": {
   "codemirror_mode": {
    "name": "ipython",
    "version": 3
   },
   "file_extension": ".py",
   "mimetype": "text/x-python",
   "name": "python",
   "nbconvert_exporter": "python",
   "pygments_lexer": "ipython3",
   "version": "3.6.5"
  }
 },
 "nbformat": 4,
 "nbformat_minor": 4
}
