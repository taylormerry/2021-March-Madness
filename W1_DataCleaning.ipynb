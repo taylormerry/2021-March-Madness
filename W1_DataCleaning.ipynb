{
 "cells": [
  {
   "cell_type": "code",
   "execution_count": 1,
   "metadata": {},
   "outputs": [],
   "source": [
    "import pandas as pd\n",
    "import re\n",
    "import numpy as np"
   ]
  },
  {
   "cell_type": "markdown",
   "metadata": {},
   "source": [
    "### Teams"
   ]
  },
  {
   "cell_type": "code",
   "execution_count": null,
   "metadata": {},
   "outputs": [],
   "source": [
    "spellings = pd.read_csv('WDataFiles_Stage1/WTeamSpellings.csv', encoding = \"ISO-8859-1\")\n",
    "spellings.head()"
   ]
  },
  {
   "cell_type": "code",
   "execution_count": null,
   "metadata": {},
   "outputs": [],
   "source": [
    "# Put the team names in the same format (lowercase no punctuation) for joins later\n",
    "spellings['TeamNameSpelling'] = spellings['TeamNameSpelling'].str.replace('[^a-z&. ]+', ' ')\n",
    "spellings['TeamNameSpelling'] = spellings['TeamNameSpelling'].str.replace('[^a-z& ]+', '')"
   ]
  },
  {
   "cell_type": "markdown",
   "metadata": {},
   "source": [
    "### Helper Functions"
   ]
  },
  {
   "cell_type": "code",
   "execution_count": null,
   "metadata": {},
   "outputs": [],
   "source": [
    "nans = lambda df: df[df.isnull().any(axis=1)]  # Function to print out rows with null values"
   ]
  },
  {
   "cell_type": "markdown",
   "metadata": {},
   "source": [
    "### Sonny Moore Ratings\n",
    "\n",
    "These ratings aren't pre-tournament, but they were the best I could find\n",
    "\n",
    "No scraping is allowed on the website so I copy pasted the rankings into .txt files"
   ]
  },
  {
   "cell_type": "code",
   "execution_count": null,
   "metadata": {},
   "outputs": [],
   "source": [
    "# reading the txt files with pd.read_txt didn't really work, so have to read them as a csv and then format them correctly\n",
    "moore_txts = {}\n",
    "moore_txts[2005] = pd.read_csv('mydata/womens/moore05.txt', sep = \"\\n\", header = None)\n",
    "moore_txts[2006] = pd.read_csv('mydata/womens/moore06.txt', sep = \"\\n\", header = None)\n",
    "moore_txts[2007] = pd.read_csv('mydata/womens/moore07.txt', sep = \"\\n\", header = None)\n",
    "moore_txts[2008] = pd.read_csv('mydata/womens/moore08.txt', sep = \"\\n\", header = None)\n",
    "moore_txts[2009] = pd.read_csv('mydata/womens/moore09.txt', sep = \"\\n\", header = None)\n",
    "moore_txts[2010] = pd.read_csv('mydata/womens/moore10.txt', sep = \"\\n\", header = None)\n",
    "moore_txts[2011] = pd.read_csv('mydata/womens/moore11.txt', sep = \"\\n\", header = None)\n",
    "moore_txts[2012] = pd.read_csv('mydata/womens/moore12.txt', sep = \"\\n\", header = None)\n",
    "moore_txts[2013] = pd.read_csv('mydata/womens/moore13.txt', sep = \"\\n\", header = None)\n",
    "moore_txts[2014] = pd.read_csv('mydata/womens/moore14.txt', sep = \"\\n\", header = None)\n",
    "moore_txts[2015] = pd.read_csv('mydata/womens/moore15.txt', sep = \"\\n\", header = None)\n",
    "moore_txts[2016] = pd.read_csv('mydata/womens/moore16.txt', sep = \"\\n\", header = None)\n",
    "moore_txts[2017] = pd.read_csv('mydata/womens/moore17.txt', sep = \"\\n\", header = None)\n",
    "moore_txts[2018] = pd.read_csv('mydata/womens/moore18.txt', sep = \"\\n\", header = None)\n",
    "moore_txts[2019] = pd.read_csv('mydata/womens/moore19.txt', sep = \"\\n\", header = None)"
   ]
  },
  {
   "cell_type": "code",
   "execution_count": null,
   "metadata": {},
   "outputs": [],
   "source": [
    "# seasons of data I have ratings for\n",
    "seasons = list(range(2005, 2020))\n",
    "\n",
    "moore_data = pd.DataFrame({'Team': [], 'MooreRating': [], 'Season': []})\n",
    "\n",
    "# for each season\n",
    "for season in seasons:\n",
    "    \n",
    "    # lists to store team ratings\n",
    "    teams = []\n",
    "    ratings = []\n",
    "    \n",
    "    # for each row in the text file\n",
    "    for i in range(len(moore_txts[season])):\n",
    "        row = moore_txts[season].iloc[i, 0].split(' ')\n",
    "        \n",
    "        # list of actual elements in row\n",
    "        actual = []\n",
    "        \n",
    "        # for each element in the row, add it to the actuals if it's not an empty string\n",
    "        for element in row:\n",
    "            if element != '':\n",
    "                actual.append(element)\n",
    "                \n",
    "        # new stat was added in 2009, need to update magic number to get the team name\n",
    "        # need to read in each word of the team and join by a space\n",
    "        if season < 2009:\n",
    "            teams.append(\" \".join(actual[1:len(actual) - 4]))\n",
    "        else:\n",
    "            teams.append(\" \".join(actual[1:len(actual) - 5]))\n",
    "            \n",
    "        # ratings is always the last element\n",
    "        ratings.append(actual[-1])\n",
    "        \n",
    "    # append the seasons data\n",
    "    moore_data = pd.concat([moore_data, pd.DataFrame({'Team': teams,\n",
    "                                                    'MooreRating': ratings,\n",
    "                                                    'Season': [season for i in range(len(teams))]})])\n",
    "\n",
    "moore_data = moore_data.reset_index(drop = True)\n",
    "moore_data.head()"
   ]
  },
  {
   "cell_type": "code",
   "execution_count": null,
   "metadata": {},
   "outputs": [],
   "source": [
    "# Put the team names in the same format (lowercase no punctuation) for joins later\n",
    "moore_data['Team'] = moore_data.Team.str.replace('[^a-zA-Z&.() ]+',' ').str.lower()\n",
    "moore_data['Team'] = moore_data.Team.str.replace('[^a-z& ]+','').str.rstrip()"
   ]
  },
  {
   "cell_type": "code",
   "execution_count": null,
   "metadata": {},
   "outputs": [],
   "source": [
    "# function to change team names to match what's in the spelling csv\n",
    "def fix_name(row):\n",
    "    if row['Team'] == 'purdue ft wayne':\n",
    "        return 'pfw'\n",
    "    elif row['Team'] == 'mass lowell':\n",
    "        return 'massachusetts lowell'\n",
    "    elif row['Team'] == 'nj tech':\n",
    "        return 'new jersey tech'\n",
    "    elif row['Team'] == 'presbyterian college':\n",
    "        return 'presbyterian'\n",
    "    elif row['Team'] == 'loyola illinois':\n",
    "        return 'loyola chicago'\n",
    "    elif row['Team'] == 'central connecticut st':\n",
    "        return 'central conn'\n",
    "    elif row['Team'] == 'mt st mary s md':\n",
    "        return 'mt st mary s'\n",
    "    elif row['Team'] == 'iupu ft wayne':\n",
    "        return 'pfw'\n",
    "    elif row['Team'] == 'mississippi valley st':\n",
    "        return 'ms valley st'\n",
    "    elif row['Team'] == 'oakland mi':\n",
    "        return 'oakland'\n",
    "    elif row['Team'] == 'towson st':\n",
    "        return 'towson'\n",
    "    elif row['Team'] == 'ohio university':\n",
    "        return 'ohio'\n",
    "    elif row['Team'] == 's f austin':\n",
    "        return 'stephen f austin'\n",
    "    elif row['Team'] == 'southern cal':\n",
    "        return 'usc'\n",
    "    else:\n",
    "        return row['Team']"
   ]
  },
  {
   "cell_type": "code",
   "execution_count": null,
   "metadata": {},
   "outputs": [],
   "source": [
    "# fix the names for the join\n",
    "moore_data['Team'] = moore_data.apply(fix_name, axis = 1)"
   ]
  },
  {
   "cell_type": "code",
   "execution_count": null,
   "metadata": {},
   "outputs": [],
   "source": [
    "# check to see if join workd\n",
    "moore_teams = pd.merge(moore_data, spellings, how = 'left', left_on = 'Team', right_on = 'TeamNameSpelling')\n",
    "nans(moore_teams)"
   ]
  },
  {
   "cell_type": "code",
   "execution_count": null,
   "metadata": {},
   "outputs": [],
   "source": [
    "moore_teams = moore_teams.drop(columns = ['Team', 'TeamNameSpelling'])\n",
    "moore_teams['MooreRating'] = moore_teams['MooreRating'].astype(float)"
   ]
  },
  {
   "cell_type": "markdown",
   "metadata": {},
   "source": [
    "### Tournament Seeds"
   ]
  },
  {
   "cell_type": "code",
   "execution_count": null,
   "metadata": {},
   "outputs": [],
   "source": [
    "# historical NCAA tournament seeds\n",
    "seeds = pd.read_csv('WDataFiles_Stage1/WNCAATourneySeeds.csv')\n",
    "seeds.head()"
   ]
  },
  {
   "cell_type": "code",
   "execution_count": null,
   "metadata": {},
   "outputs": [],
   "source": [
    "# merge seeds and moore ratings\n",
    "teams = pd.merge(moore_teams, seeds, on = ['Season', 'TeamID'], how = 'inner').drop_duplicates()\n",
    "teams.head()"
   ]
  },
  {
   "cell_type": "code",
   "execution_count": null,
   "metadata": {},
   "outputs": [],
   "source": [
    "# return just the seed number, no need for region for this use case\n",
    "def clean_seeds(row):\n",
    "    return int(row['Seed'][1:3])"
   ]
  },
  {
   "cell_type": "code",
   "execution_count": null,
   "metadata": {},
   "outputs": [],
   "source": [
    "# get seed number for each team\n",
    "teams['Seed'] = teams.apply(clean_seeds, axis = 1)\n",
    "teams.head()"
   ]
  },
  {
   "cell_type": "markdown",
   "metadata": {},
   "source": [
    "### Tournament Matchup Data\n",
    "\n",
    "This will be the data used to predict win probabilities"
   ]
  },
  {
   "cell_type": "code",
   "execution_count": null,
   "metadata": {},
   "outputs": [],
   "source": [
    "tournament_data = pd.read_csv('WDataFiles_Stage1/WNCAATourneyCompactResults.csv')\n",
    "tournament_data = tournament_data.query('Season > 2004').drop(columns = ['DayNum', 'WLoc', 'NumOT'])\n",
    "tournament_data.head()"
   ]
  },
  {
   "cell_type": "code",
   "execution_count": null,
   "metadata": {},
   "outputs": [],
   "source": [
    "game_data = pd.merge(tournament_data, teams[['Season', 'TeamID', 'MooreRating']], left_on = ['Season', 'WTeamID'], right_on = ['Season', 'TeamID'])\n",
    "game_data = pd.merge(game_data, teams[['Season', 'TeamID', 'MooreRating']], left_on = ['Season', 'LTeamID'], right_on = ['Season', 'TeamID'])\n",
    "game_data = game_data.drop(columns = ['WTeamID', 'LTeamID']).rename(columns = {'WScore': 'Score_x', 'LScore': 'Score_y'})\n",
    "game_data.head()"
   ]
  },
  {
   "cell_type": "code",
   "execution_count": null,
   "metadata": {},
   "outputs": [],
   "source": [
    "game_data.to_csv('mydata/womens/game_data.csv')"
   ]
  }
 ],
 "metadata": {
  "kernelspec": {
   "display_name": "Python 3",
   "language": "python",
   "name": "python3"
  },
  "language_info": {
   "codemirror_mode": {
    "name": "ipython",
    "version": 3
   },
   "file_extension": ".py",
   "mimetype": "text/x-python",
   "name": "python",
   "nbconvert_exporter": "python",
   "pygments_lexer": "ipython3",
   "version": "3.6.5"
  }
 },
 "nbformat": 4,
 "nbformat_minor": 4
}
