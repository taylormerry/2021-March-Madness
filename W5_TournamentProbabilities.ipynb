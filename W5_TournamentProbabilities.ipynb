{
 "cells": [
  {
   "cell_type": "code",
   "execution_count": null,
   "metadata": {},
   "outputs": [],
   "source": [
    "import pandas as pd"
   ]
  },
  {
   "cell_type": "code",
   "execution_count": null,
   "metadata": {},
   "outputs": [],
   "source": [
    "# the win probabilities outputted from W4_ProbabilityAlterations.ipynb\n",
    "preds = pd.read_csv('mydata/womens/altered_probabilities.csv')\n",
    "preds.head()"
   ]
  },
  {
   "cell_type": "code",
   "execution_count": null,
   "metadata": {},
   "outputs": [],
   "source": [
    "# File for names of teams\n",
    "team_names = pd.read_csv('WDataFiles_Stage1/WTeams.csv')[['TeamID', 'TeamName']]\n",
    "team_names.head()"
   ]
  },
  {
   "cell_type": "code",
   "execution_count": null,
   "metadata": {},
   "outputs": [],
   "source": [
    "# Seeds for 2021\n",
    "seeds = pd.read_csv('WDataFiles_Stage2/NCAATourneySeeds.csv').query('Season == 2021')[['TeamID', 'Seed']]\n",
    "seeds.head()"
   ]
  },
  {
   "cell_type": "code",
   "execution_count": null,
   "metadata": {},
   "outputs": [],
   "source": [
    "# merge seeds and teams\n",
    "teams = pd.merge(team_names, seeds, on = 'TeamID')\n",
    "teams.head()"
   ]
  },
  {
   "cell_type": "code",
   "execution_count": null,
   "metadata": {},
   "outputs": [],
   "source": [
    "probs = teams.copy()\n",
    "\n",
    "# probabilities for making each round for each team\n",
    "probs['Round64'] = 1  # default to 1 for opening round, rest default to 0\n",
    "probs['Round32'] = 0\n",
    "probs['Sweet16'] = 0\n",
    "probs['Elite8'] = 0\n",
    "probs['Final4'] = 0\n",
    "probs['Final'] = 0\n",
    "probs['Champs'] = 0\n",
    "rounds = ['Round64', 'Round32', 'Sweet16', 'Elite8', 'Final4', 'Final', 'Champs']"
   ]
  },
  {
   "cell_type": "code",
   "execution_count": null,
   "metadata": {},
   "outputs": [],
   "source": [
    "# calculate the probabilty of making each round of the tournament\n",
    "\n",
    "# dictionary of past oppenents for each seed (each team has a unique seed)\n",
    "past_opponent_seeds = {}\n",
    "\n",
    "# for each round\n",
    "for i in range(len(rounds)):\n",
    "    \n",
    "    # for each team\n",
    "    for j in range(len(probs)):\n",
    "        \n",
    "        # If opening round and team is in the play in game, or if past opening round\n",
    "        if (i == 0 and (probs.loc[j, \"Seed\"].endswith('a') or probs.loc[j, \"Seed\"].endswith('b'))) or i > 0:\n",
    "            \n",
    "            # add team to past oppenent dictionary\n",
    "            team_seed = probs.loc[j, \"Seed\"]\n",
    "            if team_seed not in past_opponent_seeds:\n",
    "                past_opponent_seeds[team_seed] = [] # initialize list of past opponents\n",
    "                \n",
    "            # get team id\n",
    "            team_id = teams[teams['Seed'] == team_seed]['TeamID'].tolist()[0]\n",
    "            \n",
    "            # get game slot for team and round\n",
    "            slot = slots[(slots['Seed'] == team_seed) & (slots['GameRound'] == i)]['GameSlot'].tolist()[0]\n",
    "            \n",
    "            # get the possible opponents for the team in the slot\n",
    "            other_teams_seeds = slots[(slots['Seed'] != team_seed) & (slots['GameSlot'] == slot)]['Seed'].tolist()\n",
    "            \n",
    "            # for each possible opponent\n",
    "            for s in other_teams_seeds:\n",
    "                \n",
    "                # if the opponent hasn't been added to past opponents and the seed exists in this years tournament\n",
    "                if s not in past_opponent_seeds[team_seed] and s in list(teams['Seed']):\n",
    "                    past_opponent_seeds[team_seed].append(s)\n",
    "                    opponent_id = teams[teams['Seed'] == s]['TeamID'].tolist()[0]\n",
    "                    \n",
    "                    id_1 = min(team_id, opponent_id) # get lower team ID of the two teams\n",
    "                    id_2 = max(team_id, opponent_id) # get higher team ID\n",
    "                    \n",
    "                    # create game ID\n",
    "                    game_id = '2021_' + str(id_1) + '_' + str(id_2)\n",
    "                    \n",
    "                    # get win probability for that game\n",
    "                    win_prob = preds[preds['ID'] == game_id]['Pred'].tolist()[0]\n",
    "                    \n",
    "                    # reverse the win probability if the team is the higher ID team\n",
    "                    if team_id == id_2:\n",
    "                        win_prob = 1 - win_prob\n",
    "                        \n",
    "                    # assign the probability of making round i for team j\n",
    "                    # if opening round, the probability is just the win probability of the play in game\n",
    "                    if i == 0:\n",
    "                        probs.loc[j, rounds[i]] = win_prob\n",
    "                        \n",
    "                    # if not opening round\n",
    "                    else:\n",
    "                        # get the index of the opponent in the round probabilities dataframe\n",
    "                        opponent_index = probs.index[probs['TeamID'] == opponent_id][0]\n",
    "                        \n",
    "                        # probability is the sum over each possible opponent of...\n",
    "                        # the probability of making the previous round and the opponent making the previous round and winning against the opponent\n",
    "                        probs.loc[j, rounds[i]] = probs.loc[j, rounds[i]] + probs.loc[j, rounds[i - 1]] * probs.loc[opponent_index, rounds[i - 1]] * win_prob"
   ]
  },
  {
   "cell_type": "code",
   "execution_count": null,
   "metadata": {},
   "outputs": [],
   "source": [
    "# print the sum of probabilities for each round, should be equal to the number of teams in each round\n",
    "for r in rounds:\n",
    "    print(r + ' sum of probabilties: ' + str(sum(probs[r])))"
   ]
  },
  {
   "cell_type": "code",
   "execution_count": null,
   "metadata": {},
   "outputs": [],
   "source": [
    "# print the probabilties\n",
    "pd.set_option('display.max_rows', 500)\n",
    "probs.drop(columns = ['TeamID']).sort_values(by = 'Champs', ascending = False).round(3)"
   ]
  }
 ],
 "metadata": {
  "kernelspec": {
   "display_name": "Python 3",
   "language": "python",
   "name": "python3"
  },
  "language_info": {
   "codemirror_mode": {
    "name": "ipython",
    "version": 3
   },
   "file_extension": ".py",
   "mimetype": "text/x-python",
   "name": "python",
   "nbconvert_exporter": "python",
   "pygments_lexer": "ipython3",
   "version": "3.6.5"
  }
 },
 "nbformat": 4,
 "nbformat_minor": 4
}
